{
 "cells": [
  {
   "cell_type": "code",
   "execution_count": 1,
   "metadata": {},
   "outputs": [
    {
     "name": "stdout",
     "output_type": "stream",
     "text": [
      "Data has been stored to job_listings.csv\n"
     ]
    }
   ],
   "source": [
    "from apify_client import ApifyClient\n",
    "import csv\n",
    "\n",
    "# Initialize the ApifyClient with your API token\n",
    "client = ApifyClient(\"apify_api_J45aUeVejN97aQthCKanXG5lOjbAfP10QElu\")\n",
    "\n",
    "# Prepare the Actor input\n",
    "run_input = {\n",
    "    \"position\": \"data analyst\",\n",
    "    \"country\": \"US\",\n",
    "    \"location\": \"San Francisco\",\n",
    "    \"maxItems\": 50,\n",
    "    \"parseCompanyDetails\": False,\n",
    "    \"saveOnlyUniqueItems\": True,\n",
    "    \"followApplyRedirects\": False,\n",
    "}\n",
    "\n",
    "# Run the Actor and wait for it to finish\n",
    "run = client.actor(\"hMvNSpz3JnHgl5jkh\").call(run_input=run_input)\n",
    "\n",
    "# Fetch results from the run's dataset\n",
    "items = client.dataset(run[\"defaultDatasetId\"]).iterate_items()\n",
    "\n",
    "# Define the CSV file path\n",
    "csv_file_path = 'job_listings.csv'\n",
    "\n",
    "# Write the items to a CSV file\n",
    "with open(csv_file_path, mode='w', newline='', encoding='utf-8') as file:\n",
    "    writer = csv.writer(file)\n",
    "    writer.writerow(['Job Title', 'Company', 'Salary', 'Location', 'Page Url'])\n",
    "    for item in items:  # Corrected from `i` to `item` for clarity\n",
    "        writer.writerow([item.get('positionName'), item.get('company'), item.get(\"salary\"), item.get(\"location\"), item.get(\"url\")])\n",
    "\n",
    "print(f'Data has been stored to {csv_file_path}')\n"
   ]
  },
  {
   "cell_type": "code",
   "execution_count": 2,
   "metadata": {},
   "outputs": [
    {
     "data": {
      "text/plain": [
       "'c:\\\\Users\\\\Mohan'"
      ]
     },
     "execution_count": 2,
     "metadata": {},
     "output_type": "execute_result"
    }
   ],
   "source": [
    "import os \n",
    "os.getcwd()"
   ]
  }
 ],
 "metadata": {
  "kernelspec": {
   "display_name": "Python 3",
   "language": "python",
   "name": "python3"
  },
  "language_info": {
   "codemirror_mode": {
    "name": "ipython",
    "version": 3
   },
   "file_extension": ".py",
   "mimetype": "text/x-python",
   "name": "python",
   "nbconvert_exporter": "python",
   "pygments_lexer": "ipython3",
   "version": "3.10.11"
  }
 },
 "nbformat": 4,
 "nbformat_minor": 2
}
